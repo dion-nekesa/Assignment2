{
 "cells": [
  {
   "cell_type": "raw",
   "id": "4e8d790e-adb4-44c9-8201-26a04a4e192a",
   "metadata": {},
   "source": [
    "INTRODUCTION TO PYTHON FOR DATA ANALYSIS ASSIGNMENT"
   ]
  },
  {
   "cell_type": "markdown",
   "id": "4f43c006-b6c9-4c28-a189-b0b12da9cace",
   "metadata": {},
   "source": [
    "Question 1\n",
    "Garbage collection is a process that handles memory by removing the objects that are no longer in use.\n",
    "It is important since it frees up memory which is no longer needed by programs for storage.\n",
    "Memory management is handled through:\n",
    "Reference Counting: which involves tracking the number of references pointing to a particular object in the python program so that when the reference count drops to zero, the memory used by the object is dropped.\n",
    "Cyclic collection:is similar to reference counting but used in cases where objects reference each other in a cycle."
   ]
  },
  {
   "cell_type": "markdown",
   "id": "54216db5-05ad-4b53-92b4-7c547a9883e2",
   "metadata": {},
   "source": [
    "Question 2\n",
    "Numpy Arrays                Lists\n",
    "All elements need to be   Elements can be of \n",
    "of the same data type     different data types\n",
    "Faster to use             Slower since the \n",
    "                          data type of every \n",
    "                          element will be \n",
    "                          checked\n",
    "Uses less memory         Uses more memory\n",
    "Has no looping since     Loops through lists \n",
    "operations are           to apply operations\n",
    "vectorised\n",
    "\n",
    "Advantages of using Numpy Arrays in Numerical computations\n",
    "Faster computation since the operations are vectorised\n",
    "They save on memory since they store elements in contiguous locations\n",
    "Numpy interacts well with other data science libraries like Pandas and Tensorflow\n",
    "They allow arrays of different shapes to be combined and manipulated without the need for complex looping."
   ]
  },
  {
   "cell_type": "markdown",
   "id": "48ccec20-3269-4af4-bd00-8e8a04ebfeed",
   "metadata": {},
   "source": [
    "Question 3\n",
    "A new list is created by applying an expression to each item in an existing iterable. Either a list, tuple or range"
   ]
  },
  {
   "cell_type": "code",
   "execution_count": 1,
   "id": "f53b9327-4c99-4924-a21c-8e99f823a4c9",
   "metadata": {},
   "outputs": [
    {
     "name": "stdout",
     "output_type": "stream",
     "text": [
      "[1, 4, 9, 16, 25, 36, 49, 64, 81]\n"
     ]
    }
   ],
   "source": [
    "squared_list=[b**2 for b in range(1,10)]\n",
    "print(squared_list)"
   ]
  },
  {
   "cell_type": "markdown",
   "id": "c70d03a0-816a-493e-a844-224426c85301",
   "metadata": {},
   "source": [
    "Question 4\n",
    "Shallow Copying \n",
    "Creates a new object but copies references to the original objects . Changes made to the nested object also affect the original object. It is used when there is need for the original list to be updated with changes in the new list.\n",
    "Deep Copying\n",
    "Creates a new object and copies everything in the original object. It is used when one needs a completely independent copy of an object so that changes to the copy do not affect the original.\n",
    "\n",
    "The deepcopy() function recursively creates copies of all nested objects inside the original creating an entirely independent copy"
   ]
  },
  {
   "cell_type": "code",
   "execution_count": null,
   "id": "1a1ba17d-3b9a-4dfb-9981-49e302a346e7",
   "metadata": {},
   "outputs": [],
   "source": [
    "#Example of the function\n",
    "import copy\n",
    "deep_copy=copy.deepcopy(initial_object)"
   ]
  },
  {
   "cell_type": "markdown",
   "id": "fdc17a68-bf67-41ec-add3-cee2bf1cc05e",
   "metadata": {},
   "source": [
    "Question 5\n",
    "Lists are modifiable while tuples are not.You can add, remove and change elements in lists"
   ]
  },
  {
   "cell_type": "code",
   "execution_count": 3,
   "id": "c4555acf-c916-40de-84a9-88eabed00154",
   "metadata": {},
   "outputs": [
    {
     "name": "stdout",
     "output_type": "stream",
     "text": [
      "[7, 2, 3]\n"
     ]
    }
   ],
   "source": [
    "numbers_list=[1,2,3]\n",
    "numbers_list[0]=7\n",
    "print(numbers_list)"
   ]
  },
  {
   "cell_type": "code",
   "execution_count": 5,
   "id": "c5cafb15-bcca-4647-b7e2-e763da0c7071",
   "metadata": {},
   "outputs": [
    {
     "ename": "TypeError",
     "evalue": "'tuple' object does not support item assignment",
     "output_type": "error",
     "traceback": [
      "\u001b[0;31m---------------------------------------------------------------------------\u001b[0m",
      "\u001b[0;31mTypeError\u001b[0m                                 Traceback (most recent call last)",
      "Cell \u001b[0;32mIn[5], line 2\u001b[0m\n\u001b[1;32m      1\u001b[0m numbers_tuple\u001b[38;5;241m=\u001b[39m(\u001b[38;5;241m1\u001b[39m,\u001b[38;5;241m2\u001b[39m,\u001b[38;5;241m3\u001b[39m)\n\u001b[0;32m----> 2\u001b[0m numbers_tuple[\u001b[38;5;241m0\u001b[39m]\u001b[38;5;241m=\u001b[39m\u001b[38;5;241m11\u001b[39m\n",
      "\u001b[0;31mTypeError\u001b[0m: 'tuple' object does not support item assignment"
     ]
    }
   ],
   "source": [
    "numbers_tuple=(1,2,3)\n",
    "numbers_tuple[0]=11"
   ]
  },
  {
   "cell_type": "markdown",
   "id": "58ca7bf3-e621-45ca-895d-c222fbe8fb37",
   "metadata": {},
   "source": [
    "Syntax\n",
    "Lists are defined using square brackets[], while tuples are defined using parantheses()"
   ]
  },
  {
   "cell_type": "code",
   "execution_count": 7,
   "id": "2a2824a6-4efa-4e8f-8e48-4c5f04dc7195",
   "metadata": {},
   "outputs": [],
   "source": [
    "first_list=[4,5,6]\n",
    "first_tuple=(7,8,9)"
   ]
  },
  {
   "cell_type": "markdown",
   "id": "9cad49ae-63f2-4df4-a547-6317dadc4070",
   "metadata": {},
   "source": [
    "Lists can grow dynamically using the .append, .remove functions....etc while tuples represent a fixed number of items that don't change, like latitudes and longitudes"
   ]
  },
  {
   "cell_type": "code",
   "execution_count": 11,
   "id": "d0bc3872-1ead-4c62-be04-01a5ae4e01a9",
   "metadata": {},
   "outputs": [],
   "source": [
    "fruits_list=['mango','grapes']\n",
    "fruits_list.append('apple')"
   ]
  },
  {
   "cell_type": "markdown",
   "id": "343d3e2a-74d5-4859-be7e-a2ba24a5f051",
   "metadata": {},
   "source": []
  }
 ],
 "metadata": {
  "kernelspec": {
   "display_name": "anaconda-2024.02-py310",
   "language": "python",
   "name": "conda-env-anaconda-2024.02-py310-py"
  },
  "language_info": {
   "codemirror_mode": {
    "name": "ipython",
    "version": 3
   },
   "file_extension": ".py",
   "mimetype": "text/x-python",
   "name": "python",
   "nbconvert_exporter": "python",
   "pygments_lexer": "ipython3",
   "version": "3.10.14"
  }
 },
 "nbformat": 4,
 "nbformat_minor": 5
}
